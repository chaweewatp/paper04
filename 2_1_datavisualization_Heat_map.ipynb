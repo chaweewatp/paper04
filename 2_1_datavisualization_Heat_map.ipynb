{
 "cells": [
  {
   "cell_type": "code",
   "execution_count": 1,
   "metadata": {
    "collapsed": true
   },
   "outputs": [],
   "source": [
    "import pandas as pd\n",
    "import seaborn as sns\n",
    "import matplotlib.pyplot as plt\n",
    "%matplotlib inline"
   ]
  },
  {
   "cell_type": "code",
   "execution_count": null,
   "metadata": {
    "collapsed": true
   },
   "outputs": [],
   "source": []
  },
  {
   "cell_type": "code",
   "execution_count": null,
   "metadata": {
    "collapsed": true
   },
   "outputs": [],
   "source": []
  },
  {
   "cell_type": "code",
   "execution_count": null,
   "metadata": {},
   "outputs": [],
   "source": []
  },
  {
   "cell_type": "markdown",
   "metadata": {},
   "source": [
    "# NP15"
   ]
  },
  {
   "cell_type": "code",
   "execution_count": 4,
   "metadata": {
    "collapsed": true
   },
   "outputs": [],
   "source": [
    "df_NP15=pd.read_excel('cleansing_data_californai_NP15.xlsx')\n",
    "\n",
    "\n",
    "df=pd.DataFrame()\n",
    "df['Average NP15 Elec price $/MWh']=df_NP15['Average NP15 Elec price $/MWh']\n",
    "df['Carbon price']=df_NP15['Carbon price']\n",
    "df['Wtd avg price $/MMBtu']=df_NP15['Wtd avg price $/MMBtu']\n",
    "df['Daily volume MWh']=df_NP15['Daily volume MWh']\n",
    "df['Daily volume MMBtu']=df_NP15['Daily volume MMBtu']\n",
    "corr = df.corr()"
   ]
  },
  {
   "cell_type": "code",
   "execution_count": 7,
   "metadata": {},
   "outputs": [
    {
     "data": {
      "text/html": [
       "<div>\n",
       "<style scoped>\n",
       "    .dataframe tbody tr th:only-of-type {\n",
       "        vertical-align: middle;\n",
       "    }\n",
       "\n",
       "    .dataframe tbody tr th {\n",
       "        vertical-align: top;\n",
       "    }\n",
       "\n",
       "    .dataframe thead th {\n",
       "        text-align: right;\n",
       "    }\n",
       "</style>\n",
       "<table border=\"1\" class=\"dataframe\">\n",
       "  <thead>\n",
       "    <tr style=\"text-align: right;\">\n",
       "      <th></th>\n",
       "      <th>Average NP15 Elec price $/MWh</th>\n",
       "      <th>Carbon price</th>\n",
       "      <th>Wtd avg price $/MMBtu</th>\n",
       "      <th>Daily volume MWh</th>\n",
       "      <th>Daily volume MMBtu</th>\n",
       "    </tr>\n",
       "  </thead>\n",
       "  <tbody>\n",
       "    <tr>\n",
       "      <th>0</th>\n",
       "      <td>54.687500</td>\n",
       "      <td>12.004</td>\n",
       "      <td>5.072663</td>\n",
       "      <td>1600</td>\n",
       "      <td>201900</td>\n",
       "    </tr>\n",
       "    <tr>\n",
       "      <th>1</th>\n",
       "      <td>48.062500</td>\n",
       "      <td>11.978</td>\n",
       "      <td>5.004186</td>\n",
       "      <td>3200</td>\n",
       "      <td>551200</td>\n",
       "    </tr>\n",
       "    <tr>\n",
       "      <th>2</th>\n",
       "      <td>53.600000</td>\n",
       "      <td>11.960</td>\n",
       "      <td>5.222754</td>\n",
       "      <td>6400</td>\n",
       "      <td>348000</td>\n",
       "    </tr>\n",
       "    <tr>\n",
       "      <th>3</th>\n",
       "      <td>50.833333</td>\n",
       "      <td>11.924</td>\n",
       "      <td>5.196661</td>\n",
       "      <td>1200</td>\n",
       "      <td>307000</td>\n",
       "    </tr>\n",
       "    <tr>\n",
       "      <th>4</th>\n",
       "      <td>48.526316</td>\n",
       "      <td>11.914</td>\n",
       "      <td>5.294961</td>\n",
       "      <td>15200</td>\n",
       "      <td>594400</td>\n",
       "    </tr>\n",
       "  </tbody>\n",
       "</table>\n",
       "</div>"
      ],
      "text/plain": [
       "   Average NP15 Elec price $/MWh  Carbon price  Wtd avg price $/MMBtu  \\\n",
       "0                      54.687500        12.004               5.072663   \n",
       "1                      48.062500        11.978               5.004186   \n",
       "2                      53.600000        11.960               5.222754   \n",
       "3                      50.833333        11.924               5.196661   \n",
       "4                      48.526316        11.914               5.294961   \n",
       "\n",
       "   Daily volume MWh  Daily volume MMBtu  \n",
       "0              1600              201900  \n",
       "1              3200              551200  \n",
       "2              6400              348000  \n",
       "3              1200              307000  \n",
       "4             15200              594400  "
      ]
     },
     "execution_count": 7,
     "metadata": {},
     "output_type": "execute_result"
    }
   ],
   "source": [
    "df.head()"
   ]
  },
  {
   "cell_type": "code",
   "execution_count": 5,
   "metadata": {},
   "outputs": [
    {
     "data": {
      "text/html": [
       "<div>\n",
       "<style scoped>\n",
       "    .dataframe tbody tr th:only-of-type {\n",
       "        vertical-align: middle;\n",
       "    }\n",
       "\n",
       "    .dataframe tbody tr th {\n",
       "        vertical-align: top;\n",
       "    }\n",
       "\n",
       "    .dataframe thead th {\n",
       "        text-align: right;\n",
       "    }\n",
       "</style>\n",
       "<table border=\"1\" class=\"dataframe\">\n",
       "  <thead>\n",
       "    <tr style=\"text-align: right;\">\n",
       "      <th></th>\n",
       "      <th>Average NP15 Elec price $/MWh</th>\n",
       "      <th>Carbon price</th>\n",
       "      <th>Wtd avg price $/MMBtu</th>\n",
       "      <th>Daily volume MWh</th>\n",
       "      <th>Daily volume MMBtu</th>\n",
       "    </tr>\n",
       "  </thead>\n",
       "  <tbody>\n",
       "    <tr>\n",
       "      <th>Average NP15 Elec price $/MWh</th>\n",
       "      <td>1.000000</td>\n",
       "      <td>-0.030042</td>\n",
       "      <td>0.607122</td>\n",
       "      <td>0.091300</td>\n",
       "      <td>0.015502</td>\n",
       "    </tr>\n",
       "    <tr>\n",
       "      <th>Carbon price</th>\n",
       "      <td>-0.030042</td>\n",
       "      <td>1.000000</td>\n",
       "      <td>-0.463541</td>\n",
       "      <td>-0.142143</td>\n",
       "      <td>-0.134785</td>\n",
       "    </tr>\n",
       "    <tr>\n",
       "      <th>Wtd avg price $/MMBtu</th>\n",
       "      <td>0.607122</td>\n",
       "      <td>-0.463541</td>\n",
       "      <td>1.000000</td>\n",
       "      <td>-0.029718</td>\n",
       "      <td>-0.029503</td>\n",
       "    </tr>\n",
       "    <tr>\n",
       "      <th>Daily volume MWh</th>\n",
       "      <td>0.091300</td>\n",
       "      <td>-0.142143</td>\n",
       "      <td>-0.029718</td>\n",
       "      <td>1.000000</td>\n",
       "      <td>-0.039794</td>\n",
       "    </tr>\n",
       "    <tr>\n",
       "      <th>Daily volume MMBtu</th>\n",
       "      <td>0.015502</td>\n",
       "      <td>-0.134785</td>\n",
       "      <td>-0.029503</td>\n",
       "      <td>-0.039794</td>\n",
       "      <td>1.000000</td>\n",
       "    </tr>\n",
       "  </tbody>\n",
       "</table>\n",
       "</div>"
      ],
      "text/plain": [
       "                               Average NP15 Elec price $/MWh  Carbon price  \\\n",
       "Average NP15 Elec price $/MWh                       1.000000     -0.030042   \n",
       "Carbon price                                       -0.030042      1.000000   \n",
       "Wtd avg price $/MMBtu                               0.607122     -0.463541   \n",
       "Daily volume MWh                                    0.091300     -0.142143   \n",
       "Daily volume MMBtu                                  0.015502     -0.134785   \n",
       "\n",
       "                               Wtd avg price $/MMBtu  Daily volume MWh  \\\n",
       "Average NP15 Elec price $/MWh               0.607122          0.091300   \n",
       "Carbon price                               -0.463541         -0.142143   \n",
       "Wtd avg price $/MMBtu                       1.000000         -0.029718   \n",
       "Daily volume MWh                           -0.029718          1.000000   \n",
       "Daily volume MMBtu                         -0.029503         -0.039794   \n",
       "\n",
       "                               Daily volume MMBtu  \n",
       "Average NP15 Elec price $/MWh            0.015502  \n",
       "Carbon price                            -0.134785  \n",
       "Wtd avg price $/MMBtu                   -0.029503  \n",
       "Daily volume MWh                        -0.039794  \n",
       "Daily volume MMBtu                       1.000000  "
      ]
     },
     "execution_count": 5,
     "metadata": {},
     "output_type": "execute_result"
    }
   ],
   "source": [
    "corr"
   ]
  },
  {
   "cell_type": "code",
   "execution_count": 8,
   "metadata": {},
   "outputs": [
    {
     "data": {
      "image/png": "[encoded data removed]",
      "text/plain": [
       "<matplotlib.figure.Figure at 0x10bdb7668>"
      ]
     },
     "metadata": {},
     "output_type": "display_data"
    }
   ],
   "source": [
    "fig = plt.figure()\n",
    "ax = fig.add_subplot(111)\n",
    "ax = sns.heatmap(corr, linewidth=0.5, annot=True)\n",
    "plt.show()"
   ]
  },
  {
   "cell_type": "markdown",
   "metadata": {
    "collapsed": true
   },
   "source": [
    "# SP15"
   ]
  },
  {
   "cell_type": "code",
   "execution_count": 4,
   "metadata": {
    "collapsed": true
   },
   "outputs": [],
   "source": [
    "df_SP15=pd.read_excel('cleansing_data_californai_SP15.xlsx')\n",
    "\n",
    "df=pd.DataFrame()\n",
    "df['Average SP15 Elec price $/MWh']=df_SP15['Average SP15 Elec price $/MWh']\n",
    "df['Carbon price']=df_SP15['Carbon price']\n",
    "df['Wtd avg price $/MMBtu']=df_SP15['Wtd avg price $/MMBtu']\n",
    "df['Daily volume MWh']=df_SP15['Daily volume MWh']\n",
    "df['Daily volume MMBtu']=df_SP15['Daily volume MMBtu']\n",
    "corr = df.corr()"
   ]
  },
  {
   "cell_type": "code",
   "execution_count": 5,
   "metadata": {},
   "outputs": [
    {
     "data": {
      "text/html": [
       "<div>\n",
       "<style scoped>\n",
       "    .dataframe tbody tr th:only-of-type {\n",
       "        vertical-align: middle;\n",
       "    }\n",
       "\n",
       "    .dataframe tbody tr th {\n",
       "        vertical-align: top;\n",
       "    }\n",
       "\n",
       "    .dataframe thead th {\n",
       "        text-align: right;\n",
       "    }\n",
       "</style>\n",
       "<table border=\"1\" class=\"dataframe\">\n",
       "  <thead>\n",
       "    <tr style=\"text-align: right;\">\n",
       "      <th></th>\n",
       "      <th>Average SP15 Elec price $/MWh</th>\n",
       "      <th>Carbon price</th>\n",
       "      <th>Wtd avg price $/MMBtu</th>\n",
       "      <th>Daily volume MWh</th>\n",
       "      <th>Daily volume MMBtu</th>\n",
       "    </tr>\n",
       "  </thead>\n",
       "  <tbody>\n",
       "    <tr>\n",
       "      <th>Average SP15 Elec price $/MWh</th>\n",
       "      <td>1.000000</td>\n",
       "      <td>0.014433</td>\n",
       "      <td>0.620098</td>\n",
       "      <td>0.146607</td>\n",
       "      <td>0.078405</td>\n",
       "    </tr>\n",
       "    <tr>\n",
       "      <th>Carbon price</th>\n",
       "      <td>0.014433</td>\n",
       "      <td>1.000000</td>\n",
       "      <td>-0.340385</td>\n",
       "      <td>-0.018065</td>\n",
       "      <td>-0.196979</td>\n",
       "    </tr>\n",
       "    <tr>\n",
       "      <th>Wtd avg price $/MMBtu</th>\n",
       "      <td>0.620098</td>\n",
       "      <td>-0.340385</td>\n",
       "      <td>1.000000</td>\n",
       "      <td>-0.049705</td>\n",
       "      <td>0.034374</td>\n",
       "    </tr>\n",
       "    <tr>\n",
       "      <th>Daily volume MWh</th>\n",
       "      <td>0.146607</td>\n",
       "      <td>-0.018065</td>\n",
       "      <td>-0.049705</td>\n",
       "      <td>1.000000</td>\n",
       "      <td>-0.023810</td>\n",
       "    </tr>\n",
       "    <tr>\n",
       "      <th>Daily volume MMBtu</th>\n",
       "      <td>0.078405</td>\n",
       "      <td>-0.196979</td>\n",
       "      <td>0.034374</td>\n",
       "      <td>-0.023810</td>\n",
       "      <td>1.000000</td>\n",
       "    </tr>\n",
       "  </tbody>\n",
       "</table>\n",
       "</div>"
      ],
      "text/plain": [
       "                               Average SP15 Elec price $/MWh  Carbon price  \\\n",
       "Average SP15 Elec price $/MWh                       1.000000      0.014433   \n",
       "Carbon price                                        0.014433      1.000000   \n",
       "Wtd avg price $/MMBtu                               0.620098     -0.340385   \n",
       "Daily volume MWh                                    0.146607     -0.018065   \n",
       "Daily volume MMBtu                                  0.078405     -0.196979   \n",
       "\n",
       "                               Wtd avg price $/MMBtu  Daily volume MWh  \\\n",
       "Average SP15 Elec price $/MWh               0.620098          0.146607   \n",
       "Carbon price                               -0.340385         -0.018065   \n",
       "Wtd avg price $/MMBtu                       1.000000         -0.049705   \n",
       "Daily volume MWh                           -0.049705          1.000000   \n",
       "Daily volume MMBtu                          0.034374         -0.023810   \n",
       "\n",
       "                               Daily volume MMBtu  \n",
       "Average SP15 Elec price $/MWh            0.078405  \n",
       "Carbon price                            -0.196979  \n",
       "Wtd avg price $/MMBtu                    0.034374  \n",
       "Daily volume MWh                        -0.023810  \n",
       "Daily volume MMBtu                       1.000000  "
      ]
     },
     "execution_count": 5,
     "metadata": {},
     "output_type": "execute_result"
    }
   ],
   "source": [
    "corr"
   ]
  },
  {
   "cell_type": "code",
   "execution_count": 6,
   "metadata": {},
   "outputs": [
    {
     "data": {
      "image/png": "[encoded data removed]",
      "text/plain": [
       "<matplotlib.figure.Figure at 0x10f61c240>"
      ]
     },
     "metadata": {},
     "output_type": "display_data"
    }
   ],
   "source": [
    "fig = plt.figure()\n",
    "ax = fig.add_subplot(111)\n",
    "ax = sns.heatmap(corr, linewidth=0.5, annot=True)\n",
    "plt.show()"
   ]
  },
  {
   "cell_type": "code",
   "execution_count": null,
   "metadata": {
    "collapsed": true
   },
   "outputs": [],
   "source": []
  }
 ],
 "metadata": {
  "kernelspec": {
   "display_name": "Python 3",
   "language": "python",
   "name": "python3"
  },
  "language_info": {
   "codemirror_mode": {
    "name": "ipython",
    "version": 3
   },
   "file_extension": ".py",
   "mimetype": "text/x-python",
   "name": "python",
   "nbconvert_exporter": "python",
   "pygments_lexer": "ipython3",
   "version": "3.6.8"
  }
 },
 "nbformat": 4,
 "nbformat_minor": 2
}
