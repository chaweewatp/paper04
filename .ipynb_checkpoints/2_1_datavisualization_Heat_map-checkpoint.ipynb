{
 "cells": [
  {
   "cell_type": "code",
   "execution_count": 5,
   "metadata": {
    "collapsed": true
   },
   "outputs": [],
   "source": [
    "import pandas as pd\n",
    "import seaborn as sns\n",
    "import matplotlib.pyplot as plt\n",
    "%matplotlib inline"
   ]
  },
  {
   "cell_type": "code",
   "execution_count": null,
   "metadata": {
    "collapsed": true
   },
   "outputs": [],
   "source": []
  },
  {
   "cell_type": "code",
   "execution_count": null,
   "metadata": {
    "collapsed": true
   },
   "outputs": [],
   "source": []
  },
  {
   "cell_type": "markdown",
   "metadata": {},
   "source": [
    "# NP15"
   ]
  },
  {
   "cell_type": "code",
   "execution_count": 6,
   "metadata": {
    "collapsed": true
   },
   "outputs": [],
   "source": [
    "df_NP15=pd.read_excel('cleansing_data_californai_NP15.xlsx')\n",
    "\n",
    "df=pd.DataFrame()\n",
    "df['Average NP15 Elec price $/MWh']=df_NP15['Average NP15 Elec price $/MWh']\n",
    "df['Carbon price']=df_NP15['Carbon price']\n",
    "df['Wtd avg price $/MMBtu']=df_NP15['Wtd avg price $/MMBtu']\n",
    "df['Daily volume MWh']=df_NP15['Daily volume MWh']\n",
    "df['Daily volume MMBtu']=df_NP15['Daily volume MMBtu']\n",
    "corr = df.corr()"
   ]
  },
  {
   "cell_type": "code",
   "execution_count": 7,
   "metadata": {},
   "outputs": [
    {
     "data": {
      "text/html": [
       "<div>\n",
       "<style scoped>\n",
       "    .dataframe tbody tr th:only-of-type {\n",
       "        vertical-align: middle;\n",
       "    }\n",
       "\n",
       "    .dataframe tbody tr th {\n",
       "        vertical-align: top;\n",
       "    }\n",
       "\n",
       "    .dataframe thead th {\n",
       "        text-align: right;\n",
       "    }\n",
       "</style>\n",
       "<table border=\"1\" class=\"dataframe\">\n",
       "  <thead>\n",
       "    <tr style=\"text-align: right;\">\n",
       "      <th></th>\n",
       "      <th>Average NP15 Elec price $/MWh</th>\n",
       "      <th>Carbon price</th>\n",
       "      <th>Wtd avg price $/MMBtu</th>\n",
       "      <th>Daily volume MWh</th>\n",
       "      <th>Daily volume MMBtu</th>\n",
       "    </tr>\n",
       "  </thead>\n",
       "  <tbody>\n",
       "    <tr>\n",
       "      <th>Average NP15 Elec price $/MWh</th>\n",
       "      <td>1.000000</td>\n",
       "      <td>-0.030042</td>\n",
       "      <td>0.607122</td>\n",
       "      <td>0.091300</td>\n",
       "      <td>0.015502</td>\n",
       "    </tr>\n",
       "    <tr>\n",
       "      <th>Carbon price</th>\n",
       "      <td>-0.030042</td>\n",
       "      <td>1.000000</td>\n",
       "      <td>-0.463541</td>\n",
       "      <td>-0.142143</td>\n",
       "      <td>-0.134785</td>\n",
       "    </tr>\n",
       "    <tr>\n",
       "      <th>Wtd avg price $/MMBtu</th>\n",
       "      <td>0.607122</td>\n",
       "      <td>-0.463541</td>\n",
       "      <td>1.000000</td>\n",
       "      <td>-0.029718</td>\n",
       "      <td>-0.029503</td>\n",
       "    </tr>\n",
       "    <tr>\n",
       "      <th>Daily volume MWh</th>\n",
       "      <td>0.091300</td>\n",
       "      <td>-0.142143</td>\n",
       "      <td>-0.029718</td>\n",
       "      <td>1.000000</td>\n",
       "      <td>-0.039794</td>\n",
       "    </tr>\n",
       "    <tr>\n",
       "      <th>Daily volume MMBtu</th>\n",
       "      <td>0.015502</td>\n",
       "      <td>-0.134785</td>\n",
       "      <td>-0.029503</td>\n",
       "      <td>-0.039794</td>\n",
       "      <td>1.000000</td>\n",
       "    </tr>\n",
       "  </tbody>\n",
       "</table>\n",
       "</div>"
      ],
      "text/plain": [
       "                               Average NP15 Elec price $/MWh  Carbon price  \\\n",
       "Average NP15 Elec price $/MWh                       1.000000     -0.030042   \n",
       "Carbon price                                       -0.030042      1.000000   \n",
       "Wtd avg price $/MMBtu                               0.607122     -0.463541   \n",
       "Daily volume MWh                                    0.091300     -0.142143   \n",
       "Daily volume MMBtu                                  0.015502     -0.134785   \n",
       "\n",
       "                               Wtd avg price $/MMBtu  Daily volume MWh  \\\n",
       "Average NP15 Elec price $/MWh               0.607122          0.091300   \n",
       "Carbon price                               -0.463541         -0.142143   \n",
       "Wtd avg price $/MMBtu                       1.000000         -0.029718   \n",
       "Daily volume MWh                           -0.029718          1.000000   \n",
       "Daily volume MMBtu                         -0.029503         -0.039794   \n",
       "\n",
       "                               Daily volume MMBtu  \n",
       "Average NP15 Elec price $/MWh            0.015502  \n",
       "Carbon price                            -0.134785  \n",
       "Wtd avg price $/MMBtu                   -0.029503  \n",
       "Daily volume MWh                        -0.039794  \n",
       "Daily volume MMBtu                       1.000000  "
      ]
     },
     "execution_count": 7,
     "metadata": {},
     "output_type": "execute_result"
    }
   ],
   "source": [
    "corr"
   ]
  },
  {
   "cell_type": "code",
   "execution_count": 8,
   "metadata": {},
   "outputs": [
    {
     "data": {
      "image/png": "[encoded data removed]",
      "text/plain": [
       "<matplotlib.figure.Figure at 0x10bdb7668>"
      ]
     },
     "metadata": {},
     "output_type": "display_data"
    }
   ],
   "source": [
    "fig = plt.figure()\n",
    "ax = fig.add_subplot(111)\n",
    "ax = sns.heatmap(corr, linewidth=0.5, annot=True)\n",
    "plt.show()"
   ]
  },
  {
   "cell_type": "code",
   "execution_count": null,
   "metadata": {
    "collapsed": true
   },
   "outputs": [],
   "source": []
  }
 ],
 "metadata": {
  "kernelspec": {
   "display_name": "Python 3",
   "language": "python",
   "name": "python3"
  },
  "language_info": {
   "codemirror_mode": {
    "name": "ipython",
    "version": 3
   },
   "file_extension": ".py",
   "mimetype": "text/x-python",
   "name": "python",
   "nbconvert_exporter": "python",
   "pygments_lexer": "ipython3",
   "version": "3.6.8"
  }
 },
 "nbformat": 4,
 "nbformat_minor": 2
}
