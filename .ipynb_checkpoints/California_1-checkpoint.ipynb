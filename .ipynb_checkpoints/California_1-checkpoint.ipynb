{
 "cells": [
  {
   "cell_type": "code",
   "execution_count": 1,
   "metadata": {
    "collapsed": true
   },
   "outputs": [],
   "source": [
    "import pandas as pd\n",
    "import datetime\n",
    "import matplotlib\n",
    "import numpy as np\n",
    "import matplotlib.pyplot as plt\n",
    "%matplotlib inline\n",
    "\n",
    "from pylab import rcParams\n",
    "rcParams['figure.figsize'] = 10, 10\n",
    "rcParams['font.size']=22"
   ]
  },
  {
   "cell_type": "code",
   "execution_count": 50,
   "metadata": {
    "collapsed": true
   },
   "outputs": [],
   "source": [
    "def convert_str_to_datetime(date_str):\n",
    "    # convert from m/d/YY to datetime object\n",
    "#     print(date_str)\n",
    "    date_str='{}/{}/20{}'.format(date_str.split('/')[0],date_str.split('/')[1],date_str.split('/')[2])\n",
    "#     print(date_str)\n",
    "    date_time_obj = datetime.datetime.strptime(date_str, '%m/%d/%Y')\n",
    "    return date_time_obj.date()"
   ]
  },
  {
   "cell_type": "code",
   "execution_count": null,
   "metadata": {
    "collapsed": true
   },
   "outputs": [],
   "source": []
  },
  {
   "cell_type": "code",
   "execution_count": null,
   "metadata": {
    "collapsed": true
   },
   "outputs": [],
   "source": []
  },
  {
   "cell_type": "code",
   "execution_count": null,
   "metadata": {
    "collapsed": true
   },
   "outputs": [],
   "source": []
  },
  {
   "cell_type": "code",
   "execution_count": 51,
   "metadata": {
    "scrolled": false
   },
   "outputs": [
    {
     "name": "stdout",
     "output_type": "stream",
     "text": [
      "2014\n",
      "96\n",
      "2015\n",
      "205\n",
      "2016\n",
      "303\n",
      "2017\n",
      "367\n"
     ]
    }
   ],
   "source": [
    "elec_market_name='NP15 EZ Gen DA LMP Peak'\n",
    "gas_market_name='PG&E - Citygate'\n",
    "#retrieve electricity price data\n",
    "df_all_NP15=pd.DataFrame()\n",
    "for year in ['2014','2015','2016','2017']:\n",
    "    print(year)\n",
    "    #load electricity price data\n",
    "    df_data=pd.read_excel('raw data/overall/ice_electric-{}final.xlsx'.format(year))\n",
    "    df_data['Delivery date']=[x.date() for x in df_data['Delivery start date']]\n",
    "    df_data['Previous Delivery date'] = [x-datetime.timedelta(1) for x in df_data['Delivery date']]\n",
    "\n",
    "    # extract only NP15 hub\n",
    "    df_temp_elec=df_data.drop(list(np.where(df_data['Price hub']!='{}'.format(elec_market_name))[0])).copy()\n",
    "    df_temp_elec.reset_index(inplace=True)\n",
    "\n",
    "    #constuct NP15 dataframe\n",
    "    df_NP15=pd.DataFrame()\n",
    "    df_NP15['Trade date']=df_temp_elec['Previous Delivery date']\n",
    "    df_NP15['Average NP15 Elec price $/MWh']=df_temp_elec['Wtd avg price $/MWh']\n",
    "    df_NP15['High NP15 Elec price $/MWh']=df_temp_elec['High price $/MWh']\n",
    "    df_NP15['Low NP15 Elec price $/MWh']=df_temp_elec['Low price $/MWh']\n",
    "    df_NP15['Daily volume MWh']=df_temp_elec['Daily volume MWh']\n",
    "\n",
    "    #load gas price data\n",
    "    df_gas_data=pd.read_excel('raw data/overall/ice_natgas-{}final.xlsx'.format(year))\n",
    "    df_gas_data['Delivery date']=[x.date() for x in df_gas_data['Delivery start date']]\n",
    "    df_gas_data['Previous Delivery date'] = [x-datetime.timedelta(1) for x in df_gas_data['Delivery date']]\n",
    "\n",
    "    # extract only PG&E - Citygate hub\n",
    "    df_temp_gas=df_gas_data.drop(list(np.where(df_gas_data['Price hub']!='{}'.format(gas_market_name))[0])).copy()\n",
    "    df_temp_gas.reset_index(inplace=True)\n",
    "    \n",
    "    df_NP15['High price $/MMBtu']=[df_temp_gas['High price $/MMBtu'][np.where(df_temp_gas['Previous Delivery date']==date)[0][0]] if date in list(df_temp_gas['Previous Delivery date']) else 'None' for date in df_NP15['Trade date']]\n",
    "    df_NP15['Low price $/MMBtu']=[df_temp_gas['Low price $/MMBtu'][np.where(df_temp_gas['Previous Delivery date']==date)[0][0]] if date in list(df_temp_gas['Previous Delivery date']) else 'None' for date in df_NP15['Trade date']]\n",
    "    df_NP15['Wtd avg price $/MMBtu']=[df_temp_gas['Wtd avg price $/MMBtu'][np.where(df_temp_gas['Previous Delivery date']==date)[0][0]] if date in list(df_temp_gas['Previous Delivery date']) else 'None' for date in df_NP15['Trade date']]\n",
    "    df_NP15['Daily volume MMBtu']=[df_temp_gas['Daily volume MMBtu'][np.where(df_temp_gas['Previous Delivery date']==date)[0][0]] if date in list(df_temp_gas['Previous Delivery date']) else 'None' for date in df_NP15['Trade date']]\n",
    "\n",
    "    # remove non day with gas price\n",
    "    df_NP15=df_NP15.drop(list(np.where(df_NP15['High price $/MMBtu']=='None')[0])).copy()\n",
    "    df_NP15.reset_index(inplace=True)\n",
    "    \n",
    "    #load emission data\n",
    "    df_emission_data=pd.read_csv('raw data/CAISO/Cali_carbon_dash.csv')\n",
    "    df_emission_data.dropna(axis=0, inplace=True)\n",
    "    df_emission_data.reset_index(inplace=True, drop=False)\n",
    "    del df_emission_data['index']\n",
    "    df_emission_data['New date']=[convert_str_to_datetime(x) for x in df_emission_data['date']]\n",
    "#     df_emission_data.head()\n",
    "\n",
    "    #update carbon price data\n",
    "    df_NP15['Carbon price'] = [df_emission_data['Price'][np.where(df_emission_data['New date']==date)[0][0]] if date in list(df_emission_data['New date']) else 'None' for date in df_NP15['Trade date']]\n",
    "#     print(df_NP15.head())\n",
    "\n",
    "    # remove non day with carbon price\n",
    "    df_NP15=df_NP15.drop(list(np.where(df_NP15['Carbon price']=='None')[0])).copy()\n",
    "    df_NP15.reset_index(inplace=True)\n",
    "#     print(df_NP15.head())\n",
    "    \n",
    "    frames=[df_all_NP15, df_NP15]\n",
    "    df_all_NP15 = pd.concat(frames)\n",
    "    df_all_NP15.reset_index(drop=True)\n",
    "    print(len(df_all_NP15))\n",
    "df_all_NP15.to_excel(\"cleansing_data_californai_NP15.xlsx\")\n",
    "#     print(df_all_NP15)"
   ]
  }
 ],
 "metadata": {
  "kernelspec": {
   "display_name": "Python 3",
   "language": "python",
   "name": "python3"
  },
  "language_info": {
   "codemirror_mode": {
    "name": "ipython",
    "version": 3
   },
   "file_extension": ".py",
   "mimetype": "text/x-python",
   "name": "python",
   "nbconvert_exporter": "python",
   "pygments_lexer": "ipython3",
   "version": "3.6.8"
  }
 },
 "nbformat": 4,
 "nbformat_minor": 2
}
